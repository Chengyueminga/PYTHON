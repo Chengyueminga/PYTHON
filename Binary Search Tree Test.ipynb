{
 "cells": [
  {
   "cell_type": "markdown",
   "metadata": {},
   "source": [
    "### Binary Search Tree\n",
    "We have nodes with the data and the connection between the nodes\n",
    "Root node: we have a reference to this, all other nodes can be accessed via the root node.\n",
    "#### Every node can have at most 2 children (right or left child)\n",
    "#### Left Child: smaller than the parent\n",
    "#### Right Child: greater than the parent"
   ]
  },
  {
   "cell_type": "code",
   "execution_count": 3,
   "metadata": {},
   "outputs": [],
   "source": [
    "### for Node\n",
    "###Binary Search Tree\n",
    "class Node(object):\n",
    "    def __init__(self, data):\n",
    "        self.data = data\n",
    "        self.leftChild = None\n",
    "        self.rightChild = None"
   ]
  },
  {
   "cell_type": "code",
   "execution_count": 29,
   "metadata": {},
   "outputs": [],
   "source": [
    "### Class for Binary Search Tree\n",
    "class BinarySearchTree(object):\n",
    "    def __init__(self):\n",
    "        self.rootNode = None\n",
    "    \n",
    "    def insert(self, data):\n",
    "        if not self.rootNode:\n",
    "            self.rootNode = Node(data)\n",
    "        else:\n",
    "            self.insertNode(data, self.rootNode)\n",
    "        \n",
    "    def insertNode(self, data, node):\n",
    "        if data < node.data:\n",
    "            if not node.leftChild:\n",
    "                node.leftChild = Node(data)\n",
    "            else:\n",
    "                self.insertNode(data, node.leftChild)\n",
    "        \n",
    "        else:\n",
    "            if not node.rightChild:\n",
    "                node.rightChild = Node(data)\n",
    "            else:\n",
    "                self.insertNode(data, node.rightChild)\n",
    "        \n",
    "    def traverse(self):\n",
    "        if self.rootNode:\n",
    "            self.traverseInOrder(self.rootNode)\n",
    "            \n",
    "    def traverseInOrder(self, node):\n",
    "        if node.leftChild:\n",
    "            self.traverseInOrder(node.leftChild)\n",
    "        \n",
    "        print(\"%s \"% node.data)\n",
    "        \n",
    "        if node.rightChild:\n",
    "            self.traverseInOrder(node.rightChild)\n",
    "        \n",
    "    def getMax(self):\n",
    "        if self.rootNode:\n",
    "            return self.getMaxValue(self.rootNode)\n",
    "            \n",
    "    def getMaxValue(self,node):\n",
    "        if node.rightChild:\n",
    "            return self.getMaxValue(node.rightChild)\n",
    "            \n",
    "        return node.data \n",
    "    \n",
    "    def getMin(self):\n",
    "        if self.rootNode:\n",
    "            return self.getMinValue(self.rootNode)\n",
    "        \n",
    "    def getMinValue(self, node):\n",
    "        if node.leftChild:\n",
    "            return self.getMinValue(node.leftChild)\n",
    "        \n",
    "        return node.data\n",
    "    \n",
    "    def remove(self,data):\n",
    "        if self.rootNode:\n",
    "            self.rootNode = self.removeNode(data,self.rootNode)\n",
    "            \n",
    "    def removeNode(self, data, node):\n",
    "        if not node:\n",
    "            return node\n",
    "        \n",
    "        \n",
    "        if data > node.data:\n",
    "            node.rightChild = self.removeNode(data, node.rightChild)\n",
    "        elif data < node.data:\n",
    "            node.leftChild = self.removeNode(data, node.leftChild)\n",
    "        else:\n",
    "            if not node.leftChild and not node.rightChild:\n",
    "                print(\"Removing a leaf node... \")\n",
    "                del node\n",
    "                return None\n",
    "            \n",
    "            if not node.leftChild:\n",
    "                print(\"Removing a node with single right node...\")\n",
    "                tempNode = node.rightChild\n",
    "                del node\n",
    "                return tempNode\n",
    "            \n",
    "            elif not node.rightChild:\n",
    "                print(\"Removing a node with a single left node... \")\n",
    "                tempNode = node.leftChild\n",
    "                del node\n",
    "                return tempNode\n",
    "            \n",
    "            print(\"Removing node with 2 children...\")\n",
    "            tempNode = self.getPredeccor(node.leftChild)\n",
    "            node.data = tempNode.data\n",
    "            node.leftChild = self.removeNode(tempNode.data, node.leftChild)\n",
    "        return node\n",
    "    \n",
    "    def getPredeccor(self, node):\n",
    "        \n",
    "        if node.rightChild:\n",
    "            return self.getPredeccor(node.rightChild)\n",
    "        \n",
    "        return node\n",
    "    "
   ]
  },
  {
   "cell_type": "code",
   "execution_count": 30,
   "metadata": {},
   "outputs": [],
   "source": [
    "BST = BinarySearchTree()\n",
    "BST.insert(10)\n",
    "BST.insert(8)\n",
    "BST.insert(4)\n",
    "BST.insert(9)\n",
    "BST.insert(14)\n",
    "BST.insert(20)\n",
    "BST.insert(18)"
   ]
  },
  {
   "cell_type": "code",
   "execution_count": 31,
   "metadata": {},
   "outputs": [
    {
     "name": "stdout",
     "output_type": "stream",
     "text": [
      "4 \n",
      "8 \n",
      "9 \n",
      "10 \n",
      "14 \n",
      "18 \n",
      "20 \n"
     ]
    }
   ],
   "source": [
    "BST.traverse()"
   ]
  },
  {
   "cell_type": "code",
   "execution_count": 32,
   "metadata": {},
   "outputs": [
    {
     "data": {
      "text/plain": [
       "20"
      ]
     },
     "execution_count": 32,
     "metadata": {},
     "output_type": "execute_result"
    }
   ],
   "source": [
    "BST.getMax()"
   ]
  },
  {
   "cell_type": "code",
   "execution_count": 33,
   "metadata": {},
   "outputs": [
    {
     "name": "stdout",
     "output_type": "stream",
     "text": [
      "Removing a leaf node... \n"
     ]
    }
   ],
   "source": [
    "BST.remove(4)"
   ]
  },
  {
   "cell_type": "code",
   "execution_count": 34,
   "metadata": {},
   "outputs": [
    {
     "name": "stdout",
     "output_type": "stream",
     "text": [
      "8 \n",
      "9 \n",
      "10 \n",
      "14 \n",
      "18 \n",
      "20 \n"
     ]
    }
   ],
   "source": [
    "BST.traverse()"
   ]
  }
 ],
 "metadata": {
  "kernelspec": {
   "display_name": "Python 3",
   "language": "python",
   "name": "python3"
  },
  "language_info": {
   "codemirror_mode": {
    "name": "ipython",
    "version": 3
   },
   "file_extension": ".py",
   "mimetype": "text/x-python",
   "name": "python",
   "nbconvert_exporter": "python",
   "pygments_lexer": "ipython3",
   "version": "3.7.3"
  }
 },
 "nbformat": 4,
 "nbformat_minor": 2
}
