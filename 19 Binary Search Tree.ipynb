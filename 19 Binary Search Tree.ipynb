{
 "cells": [
  {
   "cell_type": "markdown",
   "metadata": {},
   "source": [
    "### Bineary Search Tree"
   ]
  },
  {
   "cell_type": "markdown",
   "metadata": {},
   "source": [
    "1, A tree is a classic data structure with mnay important application\n",
    "\n",
    "2, A binary search tree can be implemented using a linked structure"
   ]
  },
  {
   "cell_type": "code",
   "execution_count": 2,
   "metadata": {},
   "outputs": [],
   "source": [
    "class TreeNode:\n",
    "    def __init__(self,e):\n",
    "        self.element = e\n",
    "        ##Point to the left node, default none\n",
    "        self.left = None\n",
    "        ##Point to the right node, default none\n",
    "        self.right = None"
   ]
  },
  {
   "cell_type": "code",
   "execution_count": 3,
   "metadata": {},
   "outputs": [],
   "source": [
    "###Creat the root node\n",
    "root = TreeNode(60)\n",
    "###Create the left child node\n",
    "root.left = TreeNode(55)\n",
    "###Create the right child node\n",
    "root.right = TreeNode(100)"
   ]
  },
  {
   "cell_type": "markdown",
   "metadata": {},
   "source": [
    "#### Search for an element\n",
    "To search an element in the BST, we have to start from the root and then scan down until the element is found or we arrive at an empty subtree.\n",
    "\n",
    "1, If element is less than current.element, assign current.left to current.\n",
    "\n",
    "2, If element is greater than current.element, assign current.right to current.\n",
    "\n",
    "3, If elemtn is equal to current.element, return TRUE"
   ]
  },
  {
   "cell_type": "code",
   "execution_count": 4,
   "metadata": {},
   "outputs": [],
   "source": [
    "def search(element):\n",
    "    current = root\n",
    "    \n",
    "    while current != None:\n",
    "        ###Go left\n",
    "        if element < current.element:\n",
    "            current = current.left\n",
    "        ###Go right \n",
    "        elif element > current.element:\n",
    "            current = current.right\n",
    "        ### Element matches current element\n",
    "        else:\n",
    "            return True\n",
    "    ### element is not in the tree\n",
    "    return False"
   ]
  },
  {
   "cell_type": "markdown",
   "metadata": {},
   "source": [
    "#### Inserting an element into a BST"
   ]
  },
  {
   "cell_type": "code",
   "execution_count": 5,
   "metadata": {},
   "outputs": [],
   "source": [
    "def insertNode(element,node):\n",
    "    if element < current.element:\n",
    "        if current.left is None:\n",
    "            current.left = TreeNode(element)\n",
    "        else:\n",
    "            return insertNode(element, current.left)\n",
    "        \n",
    "    elif element > current.element:\n",
    "        if current.right is None:\n",
    "            current.right = TreeNode(element)\n",
    "        else:\n",
    "            return inserNode(element, current.right)"
   ]
  },
  {
   "cell_type": "code",
   "execution_count": 6,
   "metadata": {},
   "outputs": [],
   "source": [
    "def insert(element):\n",
    "    return insertNode(element, root)"
   ]
  },
  {
   "cell_type": "markdown",
   "metadata": {},
   "source": [
    "### Binary Search Tree"
   ]
  },
  {
   "cell_type": "code",
   "execution_count": 14,
   "metadata": {},
   "outputs": [],
   "source": [
    "###TreeNode\n",
    "class BinearySearchTree:\n",
    "    def __init__(self):\n",
    "        self.root = None\n",
    "        self.size = 0\n",
    "        \n",
    "    ###Return True if the element is in the tree\n",
    "    def search(self, e):\n",
    "        ###Start from the root\n",
    "        current = self.root\n",
    "        while current != None:\n",
    "            if e < current.element:\n",
    "                current = current.left\n",
    "            elif e > current.element:\n",
    "                current = current.right\n",
    "            ###Find the element\n",
    "            else:\n",
    "                return True\n",
    "        \n",
    "        return False\n",
    "    \n",
    "    ###Insert element e into the binary search tree\n",
    "    ###Return true if the element is inserted successfully\n",
    "    def insert(self, e):\n",
    "        if self.root == None:\n",
    "            self.root = self.createNewNode(e)\n",
    "        \n",
    "        else:\n",
    "            parent = None\n",
    "            current = self.root\n",
    "            while current != None:\n",
    "                if e < current.element:\n",
    "                    parent = current\n",
    "                    current = current.left\n",
    "                elif e > current.element:\n",
    "                    parent = current\n",
    "                    current = current.right\n",
    "                else:\n",
    "                    return False\n",
    "            \n",
    "            if e < parent.element:\n",
    "                parent.left = self.createNewNode(e)\n",
    "            else:\n",
    "                parent.right = self.createNewNode(e)\n",
    "            \n",
    "        self.size += 1\n",
    "        return True\n",
    "    \n",
    "    ###Create a new TreeNode for element e\n",
    "    def createNewNode(self, e):\n",
    "        return TreeNode(e)\n",
    "    \n",
    "    ###Return the size of the tree\n",
    "    def getSize(self):\n",
    "        return self.size\n",
    "    \n",
    "    ###Inorder traversal from the root\n",
    "    def inorder(self):\n",
    "        self.inorderHelper(self.root)\n",
    "    \n",
    "    ###Inorder traversal from a subtree\n",
    "    def inorderHelper(self, r):\n",
    "        if r != None:\n",
    "            self.inorderHelper(r.left)\n",
    "            print(r.element, end = \" \")\n",
    "            self.inorderHelper(r.right)\n",
    "            \n",
    "    ###Postorder traversal from the root\n",
    "    def postorder(self):\n",
    "        self.postorderHelper(self.root)\n",
    "    \n",
    "    ###Post order traversal from a subtree\n",
    "    def postorderHelper(self, r):\n",
    "        if r != None:\n",
    "            self.postorderHelper(r.left)\n",
    "            self.postorderHelper(r.right)\n",
    "            print(r.element, end = \" \")\n",
    "    \n",
    "    ###Preorder traversal from the root \n",
    "    def preorder(self):\n",
    "        self.preorderHelper(self.root)\n",
    "    \n",
    "    ###Preorder traversal from a subtree\n",
    "    def preorderHelper(self, root):\n",
    "        if root != None:\n",
    "            print(root.element, end = \" \")\n",
    "            self.preorderHelper(root.left)\n",
    "            self.preorderHelper(root.right)\n",
    "            \n",
    "    \n",
    "    ###Returns a path from the root leading to the specified element\n",
    "    def path(self, e):\n",
    "        lst = [ ]\n",
    "        current = self.root\n",
    "        \n",
    "        while current != None:\n",
    "            lst.append(current)\n",
    "            if e < current.element:\n",
    "                current = current.left\n",
    "            elif e > current.element:\n",
    "                current = current.right\n",
    "            else:\n",
    "                break\n",
    "        \n",
    "        return lst\n",
    "    \n",
    "    ###Delete an element from the binary search tree\n",
    "    ###Return True if the element is deleted successfully\n",
    "    ###Return False if the element is not in the tree\n",
    "    def delete(self, e):\n",
    "        ###Locate the node to be deleted and its parent node\n",
    "        parent = None\n",
    "        current = self.root\n",
    "        \n",
    "        ##Find the node\n",
    "        while current != None:\n",
    "            if e < current.element:\n",
    "                parent = current\n",
    "                current = current.left\n",
    "                \n",
    "            elif e > current.element:\n",
    "                parent = current\n",
    "                current = current.right\n",
    "            ###Element is in the tree pointed by current    \n",
    "            else:\n",
    "                break\n",
    "        \n",
    "        ###Element is not in the tree\n",
    "        if current == None:\n",
    "            return False\n",
    "    \n",
    "        ###Case1: current has no left child\n",
    "        if current.left == None:\n",
    "            ###Connect the parent with the right child of the current node\n",
    "            if parent == None:\n",
    "                self.root = current.right\n",
    "            else:\n",
    "                if e < parent.element:\n",
    "                    parent.left = current.right\n",
    "                else:\n",
    "                    parent.right = current.right\n",
    "                    \n",
    "        else:\n",
    "            ###Case 1: The current node has a left child\n",
    "            ###Locate the rightmost node oin teh left subtree of\n",
    "            ###the current node and also its parent\n",
    "            parentOfRightMost = current\n",
    "            rightMost = current.left\n",
    "            \n",
    "            while rightMost.right != None:\n",
    "                parentOfRightMost = rightMost\n",
    "                ###Keep going to the right\n",
    "                rightMost = rightMost.right\n",
    "            \n",
    "            ###Replace the element in current by the element in rightMost\n",
    "            current.element = rightMost.element\n",
    "            \n",
    "            ##Eliminate rightmost node\n",
    "            if parentOfRightMost.right == rightMost:\n",
    "                parentOfRightMost.right == rightMost.left\n",
    "            \n",
    "            else:\n",
    "                ###Special case: parentOfRightMost == current\n",
    "                parentOfRightMost.left = rightMost.left\n",
    "            \n",
    "            self.size -= 1\n",
    "            return True\n",
    "        \n",
    "        ###Return true if the tree is empty\n",
    "    def isEmpty(self):\n",
    "        return self.size == 0\n",
    "        \n",
    "        ###Remove all elements from the tree\n",
    "    def clear(self):\n",
    "        self.size == 0\n",
    "        self.root = None\n",
    "        \n",
    "        ###Return the root of the tree\n",
    "    def getRoot(self):\n",
    "        return self.root\n",
    "        \n",
    "class TreeNode:\n",
    "    def __init__(self,e):\n",
    "        self.element = e\n",
    "        self.left = None\n",
    "        self.right = None\n",
    "        \n",
    "                "
   ]
  },
  {
   "cell_type": "code",
   "execution_count": 21,
   "metadata": {},
   "outputs": [
    {
     "name": "stdout",
     "output_type": "stream",
     "text": [
      "Inorder (sorted):  2 5 6 8 9 10 13 \n",
      " Postorder (sorted):  2 5 9 13 10 8 6 \n",
      " Preorder (sorted):  6 5 2 8 10 9 13 "
     ]
    }
   ],
   "source": [
    "tree = BinearySearchTree()\n",
    "tree.insert(6)\n",
    "tree.insert(8)\n",
    "tree.insert(5)\n",
    "tree.insert(2)\n",
    "tree.insert(10)\n",
    "tree.insert(13)\n",
    "tree.insert(9)\n",
    "\n",
    "###Traverse Tree\n",
    "print(\"Inorder (sorted): \", end = \" \")\n",
    "tree.inorder()\n",
    "print(\"\\n Postorder (sorted): \", end = \" \")\n",
    "tree.postorder()\n",
    "print(\"\\n Preorder (sorted): \", end = \" \")\n",
    "tree.preorder()"
   ]
  },
  {
   "cell_type": "code",
   "execution_count": 22,
   "metadata": {},
   "outputs": [
    {
     "name": "stdout",
     "output_type": "stream",
     "text": [
      "\n",
      " The number of node is 7\n"
     ]
    }
   ],
   "source": [
    "print(\"\\n The number of node is \" + str(tree.getSize()))"
   ]
  },
  {
   "cell_type": "code",
   "execution_count": 23,
   "metadata": {},
   "outputs": [
    {
     "name": "stdout",
     "output_type": "stream",
     "text": [
      " Is 2 in the tree?  True\n"
     ]
    }
   ],
   "source": [
    "print(\" Is 2 in the tree? \", tree.search(2))"
   ]
  },
  {
   "cell_type": "code",
   "execution_count": 26,
   "metadata": {},
   "outputs": [
    {
     "name": "stdout",
     "output_type": "stream",
     "text": [
      "Delete 2  None\n",
      "5 6 9 10 13 "
     ]
    }
   ],
   "source": [
    "print(\"Delete 2 \", tree.delete(2))\n",
    "tree.inorder()"
   ]
  },
  {
   "cell_type": "code",
   "execution_count": 28,
   "metadata": {},
   "outputs": [
    {
     "name": "stdout",
     "output_type": "stream",
     "text": [
      "Inorder (sorted):  1 2 3 4 5 6 7 8 "
     ]
    }
   ],
   "source": [
    "numbers = [2, 4, 3, 1, 8, 5, 6, 7]\n",
    "intTree = BinearySearchTree()\n",
    "for e in numbers:\n",
    "    intTree.insert(e)\n",
    "\n",
    "print(\"Inorder (sorted): \", end = \" \")\n",
    "intTree.inorder()"
   ]
  }
 ],
 "metadata": {
  "kernelspec": {
   "display_name": "Python 3",
   "language": "python",
   "name": "python3"
  },
  "language_info": {
   "codemirror_mode": {
    "name": "ipython",
    "version": 3
   },
   "file_extension": ".py",
   "mimetype": "text/x-python",
   "name": "python",
   "nbconvert_exporter": "python",
   "pygments_lexer": "ipython3",
   "version": "3.7.3"
  }
 },
 "nbformat": 4,
 "nbformat_minor": 2
}
