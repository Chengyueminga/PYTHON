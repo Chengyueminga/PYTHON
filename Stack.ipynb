{
 "cells": [
  {
   "cell_type": "code",
   "execution_count": 1,
   "metadata": {},
   "outputs": [],
   "source": [
    "###Stack\n",
    "###A stack can be easily implemented either with arrays or linked lists\n",
    "###In this case, we use arrays\n",
    "class stack:\n",
    "    def __init__(self):\n",
    "        self.stack = []\n",
    "        \n",
    "    def isEmpty(self):\n",
    "        return self.stack == []\n",
    "    \n",
    "    def push(self,data):\n",
    "        self.stack.append(data)\n",
    "        \n",
    "    def pop(self):\n",
    "        data = self.stack[-1]\n",
    "        del self.stack[-1]\n",
    "        return data\n",
    "    \n",
    "    def peek(self):\n",
    "        return self.stack[-1]\n",
    "    \n",
    "    def sizeStack(self):\n",
    "        return len(self.stack)"
   ]
  },
  {
   "cell_type": "code",
   "execution_count": 8,
   "metadata": {},
   "outputs": [],
   "source": [
    "stack1 = stack()\n",
    "stack1.push(1)\n",
    "stack1.push(2)\n",
    "stack1.push(3)"
   ]
  },
  {
   "cell_type": "code",
   "execution_count": 9,
   "metadata": {},
   "outputs": [
    {
     "name": "stdout",
     "output_type": "stream",
     "text": [
      "3\n"
     ]
    }
   ],
   "source": [
    "print(stack1.sizeStack())"
   ]
  },
  {
   "cell_type": "code",
   "execution_count": 10,
   "metadata": {},
   "outputs": [
    {
     "name": "stdout",
     "output_type": "stream",
     "text": [
      "Popped 3\n",
      "2\n"
     ]
    }
   ],
   "source": [
    "print(\"Popped\",stack1.pop())\n",
    "print(stack1.sizeStack())"
   ]
  },
  {
   "cell_type": "code",
   "execution_count": 15,
   "metadata": {},
   "outputs": [
    {
     "name": "stdout",
     "output_type": "stream",
     "text": [
      "peek 2\n",
      "2\n"
     ]
    }
   ],
   "source": [
    "print(\"peek\",stack1.peek())\n",
    "print(stack1.sizeStack())"
   ]
  }
 ],
 "metadata": {
  "kernelspec": {
   "display_name": "Python 3",
   "language": "python",
   "name": "python3"
  },
  "language_info": {
   "codemirror_mode": {
    "name": "ipython",
    "version": 3
   },
   "file_extension": ".py",
   "mimetype": "text/x-python",
   "name": "python",
   "nbconvert_exporter": "python",
   "pygments_lexer": "ipython3",
   "version": "3.7.1"
  }
 },
 "nbformat": 4,
 "nbformat_minor": 2
}
