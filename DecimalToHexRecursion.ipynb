{
 "cells": [
  {
   "cell_type": "markdown",
   "metadata": {},
   "source": [
    "### Decimal To Hex"
   ]
  },
  {
   "cell_type": "code",
   "execution_count": 17,
   "metadata": {},
   "outputs": [],
   "source": [
    "def hhex(number):\n",
    "    if number < 10:\n",
    "        return str(number % 16)\n",
    "    elif number == 10:\n",
    "        return str(\"A\")\n",
    "    elif number == 11:\n",
    "        return str(\"B\")\n",
    "    elif number == 12:\n",
    "        return str(\"C\")\n",
    "    elif number == 13:\n",
    "        return str(\"D\")\n",
    "    elif number == 14:\n",
    "        return str(\"E\")\n",
    "    else:\n",
    "        return str(\"F\")"
   ]
  },
  {
   "cell_type": "code",
   "execution_count": 25,
   "metadata": {},
   "outputs": [],
   "source": [
    "def decimalToHexHelper(number, char):\n",
    "    if number == 0:\n",
    "        return char\n",
    "    else:\n",
    "        return decimalToHexHelper(number // 16, hhex(number % 16) + char)"
   ]
  },
  {
   "cell_type": "code",
   "execution_count": 26,
   "metadata": {},
   "outputs": [],
   "source": [
    "def decimalToHex(number):\n",
    "    return decimalToHexHelper(number, \"\")"
   ]
  },
  {
   "cell_type": "code",
   "execution_count": 28,
   "metadata": {},
   "outputs": [
    {
     "data": {
      "text/plain": [
       "'100'"
      ]
     },
     "execution_count": 28,
     "metadata": {},
     "output_type": "execute_result"
    }
   ],
   "source": [
    "decimalToHex(256)"
   ]
  }
 ],
 "metadata": {
  "kernelspec": {
   "display_name": "Python 3",
   "language": "python",
   "name": "python3"
  },
  "language_info": {
   "codemirror_mode": {
    "name": "ipython",
    "version": 3
   },
   "file_extension": ".py",
   "mimetype": "text/x-python",
   "name": "python",
   "nbconvert_exporter": "python",
   "pygments_lexer": "ipython3",
   "version": "3.7.3"
  }
 },
 "nbformat": 4,
 "nbformat_minor": 2
}
