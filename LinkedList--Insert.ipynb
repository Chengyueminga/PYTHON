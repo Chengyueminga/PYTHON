{
 "cells": [
  {
   "cell_type": "markdown",
   "metadata": {},
   "source": [
    "### LinkedList Implementation Insert"
   ]
  },
  {
   "cell_type": "code",
   "execution_count": 6,
   "metadata": {},
   "outputs": [],
   "source": [
    "###Node\n",
    "class Node(object):\n",
    "    def __init__(self,data):\n",
    "        ##going to store the data \n",
    "        self.data = data;\n",
    "        #going to store reference to the next node\n",
    "        self.nextNode = None"
   ]
  },
  {
   "cell_type": "code",
   "execution_count": 7,
   "metadata": {},
   "outputs": [],
   "source": [
    "###Linked List\n",
    "class linkedList(object):\n",
    "    def __init__(self):\n",
    "        #it looks like a tree structure, we are able to access the root of the tree, but can not access the middle directly\n",
    "        self.head = None;\n",
    "        self.size = 0;\n",
    "        \n",
    "    #Method\n",
    "    #o(1)\n",
    "    def insertStart(self,data):\n",
    "        self.size = self.size + 1;\n",
    "        newNode = Node(data);\n",
    "        #which means that this head is None or null, it's going to be the 1st item in linkedlist\n",
    "        if not self.head:\n",
    "            self.head = newNode;\n",
    "        #If we already have the root node \n",
    "        else:\n",
    "            self.nextNode = self.head;\n",
    "            self.head = newNode;\n",
    "    #Method\n",
    "    def size(self);\n",
    "        return self.size\n",
    "\n",
    "    def size2(self);\n",
    "        actualNode = self.head;\n",
    "        size = 0;\n",
    "        \n",
    "        while actualNode is not None;\n",
    "            size += 1\n",
    "            actualNode = actualNode.nextNode\n",
    "        return size"
   ]
  },
  {
   "cell_type": "code",
   "execution_count": 21,
   "metadata": {},
   "outputs": [],
   "source": [
    "###Node\n",
    "class Node(object):\n",
    "    def __init__(self,data):\n",
    "        #going to store the data\n",
    "        self.data = data\n",
    "        #going to store the reference to the next node\n",
    "        self.nextNode = None"
   ]
  },
  {
   "cell_type": "code",
   "execution_count": 22,
   "metadata": {},
   "outputs": [],
   "source": [
    "###Linked List\n",
    "class LinkedList(object):\n",
    "    def __init__(self):\n",
    "        self.size = 0\n",
    "        self.head = None\n",
    "        \n",
    "    def insertStart(self,data):\n",
    "        newNode = Node(data)\n",
    "        self.size = self.size + 1\n",
    "        \n",
    "        if not self.head:\n",
    "            self.head = newNode\n",
    "        else:\n",
    "            self.nextNode = self.head\n",
    "            self.head = newNode\n",
    "    \n",
    "    def size(self):\n",
    "        return self.size\n",
    "    \n",
    "    def size2(self):\n",
    "        acutalNode = self.head\n",
    "        size = 0\n",
    "        \n",
    "        while acutalNode is not None:\n",
    "            size += 1\n",
    "            actualNode = acutalNode.nextNode\n",
    "        return size"
   ]
  }
 ],
 "metadata": {
  "kernelspec": {
   "display_name": "Python 3",
   "language": "python",
   "name": "python3"
  },
  "language_info": {
   "codemirror_mode": {
    "name": "ipython",
    "version": 3
   },
   "file_extension": ".py",
   "mimetype": "text/x-python",
   "name": "python",
   "nbconvert_exporter": "python",
   "pygments_lexer": "ipython3",
   "version": "3.7.1"
  }
 },
 "nbformat": 4,
 "nbformat_minor": 2
}
